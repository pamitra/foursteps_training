{
  "cells": [
    {
      "cell_type": "markdown",
      "metadata": {
        "id": "view-in-github",
        "colab_type": "text"
      },
      "source": [
        "<a href=\"https://colab.research.google.com/github/pamitra/foursteps_training/blob/main/Day3_Hands_On_Activities.ipynb\" target=\"_parent\"><img src=\"https://colab.research.google.com/assets/colab-badge.svg\" alt=\"Open In Colab\"/></a>"
      ]
    },
    {
      "cell_type": "markdown",
      "metadata": {
        "id": "-F4k-gxVN7A9"
      },
      "source": [
        "# Python Basics - Day 3: Hands-On Activities\n",
        "This notebook contains engaging hands-on activities to help you practice conditional statements, logical operators, and comparison operators."
      ]
    },
    {
      "cell_type": "markdown",
      "metadata": {
        "id": "UpGkHoAFN7A-"
      },
      "source": [
        "## Activity 1: Grading System"
      ]
    },
    {
      "cell_type": "markdown",
      "metadata": {
        "id": "57m72i4gN7A_"
      },
      "source": [
        "**Objective**: Write a program to assign grades based on a student's score.\n",
        "\n",
        "**Instructions**:\n",
        "1. Input the student's score.\n",
        "2. Assign grades:\n",
        "- A: 90 and above\n",
        "- B: 75 to 89\n",
        "- C: 50 to 74\n",
        "- F: Below 50"
      ]
    },
    {
      "cell_type": "code",
      "metadata": {
        "id": "BonNcNBsN7BA",
        "colab": {
          "base_uri": "https://localhost:8080/"
        },
        "outputId": "9571e4ad-cf2f-4284-8d86-ac5679b64524"
      },
      "source": [
        "# write your code here\n",
        "score=input('Enter score in 100: ')\n",
        "if score:\n",
        "  if int(score) >= 90:\n",
        "    print('Secured Grade A')\n",
        "  elif int(score) >= 75 and int(score)<90:\n",
        "    print('Secured Grade B')\n",
        "  elif int(score) >=50 and int(score)<75:\n",
        "    print('secured Grade C')\n",
        "  else:\n",
        "    print('Secured F Grade')\n",
        "else:\n",
        "  print('No input :(')\n"
      ],
      "execution_count": 12,
      "outputs": [
        {
          "output_type": "stream",
          "name": "stdout",
          "text": [
            "Enter score in 100: 3\n",
            "Secured F Grade\n"
          ]
        }
      ]
    },
    {
      "cell_type": "markdown",
      "metadata": {
        "id": "5rH088L5N7BB"
      },
      "source": [
        "## Activity 2: Number Classification"
      ]
    },
    {
      "cell_type": "markdown",
      "metadata": {
        "id": "zykY1PbXN7BB"
      },
      "source": [
        "**Objective**: Write a program to classify a number as positive, negative, or zero.\n",
        "\n",
        "**Instructions**:\n",
        "1. Input a number from the user.\n",
        "2. Use `if`, `elif`, and `else` to classify the number."
      ]
    },
    {
      "cell_type": "code",
      "metadata": {
        "id": "MDjQqHR1N7BC",
        "colab": {
          "base_uri": "https://localhost:8080/"
        },
        "outputId": "51f96535-859a-4ffa-fff5-ce4fbce8ada2"
      },
      "source": [
        "# write your code here\n",
        "import sys\n",
        "\n",
        "def zero_or_not():\n",
        "  num=input('Enter a number: ')\n",
        "  if num:\n",
        "    if int(num) >0 :\n",
        "      print('Entered number is Positive')\n",
        "    elif int(num) <0:\n",
        "      print('Entered number is Negative')\n",
        "    else:\n",
        "      print('Entered number is zero')\n",
        "  else:\n",
        "    print('No input :(')\n",
        "\n",
        "zero_or_not()\n",
        "while True:\n",
        "  ans=input('wanna go again (Y/N)?')\n",
        "  if ans.lower() in (\"y\", \"n\"):\n",
        "    if ans.lower() != \"y\":\n",
        "      break  # Exit the loop if not retrying\n",
        "    else:\n",
        "      zero_or_not()\n",
        "      print(\"Retrying...\")\n",
        "  else:\n",
        "    print('Please provide an input in \\'Y\\' and \\'N\\'')\n"
      ],
      "execution_count": 28,
      "outputs": [
        {
          "name": "stdout",
          "output_type": "stream",
          "text": [
            "Enter a number: 7\n",
            "Entered number is Positive\n",
            "wanna go again (Y/N)?-5\n",
            "Please provide an input in 'Y' and 'N'\n",
            "wanna go again (Y/N)?y\n",
            "Enter a number: -5\n",
            "Entered number is Negative\n",
            "Retrying...\n",
            "wanna go again (Y/N)?n\n"
          ]
        }
      ]
    },
    {
      "cell_type": "markdown",
      "metadata": {
        "id": "WVeNHDCtN7BC"
      },
      "source": [
        "## Activity 3: Check Even or Odd"
      ]
    },
    {
      "cell_type": "markdown",
      "metadata": {
        "id": "MIsA5okPN7BD"
      },
      "source": [
        "**Objective**: Determine if a number is even or odd using nested conditions.\n",
        "\n",
        "**Instructions**:\n",
        "1. Input a number from the user.\n",
        "2. Check if the number is non-negative, then check if it’s even or odd."
      ]
    },
    {
      "cell_type": "code",
      "metadata": {
        "id": "HP_C3GraN7BD",
        "colab": {
          "base_uri": "https://localhost:8080/"
        },
        "outputId": "2b152a2b-b5b6-4dc1-eda0-72b929efe19e"
      },
      "source": [
        "# write your code here\n",
        "import sys\n",
        "\n",
        "def even_or_odd():\n",
        "  num=input('Enter a number: ')\n",
        "  if num:\n",
        "    if int(num)<0:\n",
        "      print('Please enter positive number')\n",
        "    else:\n",
        "      if int(num)%2==0 :\n",
        "        print('Entered number is Even')\n",
        "      else:\n",
        "        print('Entered number is Odd')\n",
        "  else:\n",
        "    print('No input :(')\n",
        "\n",
        "even_or_odd()\n",
        "\n",
        "while True:\n",
        "  ans=input('wanna go again (Y/N)?')\n",
        "  if ans.lower() in (\"y\", \"n\"):\n",
        "    if ans.lower() != \"y\":\n",
        "      break  # Exit the loop if not retrying\n",
        "    else:\n",
        "      even_or_odd()\n",
        "      print(\"Retrying...\")\n",
        "  else:\n",
        "    print('Please provide an input in \\'Y\\' and \\'N\\'')"
      ],
      "execution_count": 30,
      "outputs": [
        {
          "name": "stdout",
          "output_type": "stream",
          "text": [
            "Enter a number: 6\n",
            "Entered number is Even\n",
            "wanna go again (Y/N)?y\n",
            "Enter a number: 7\n",
            "Entered number is Odd\n",
            "Retrying...\n",
            "wanna go again (Y/N)?y\n",
            "Enter a number: -6\n",
            "Please enter positive number\n",
            "Retrying...\n",
            "wanna go again (Y/N)?0\n",
            "Please provide an input in 'Y' and 'N'\n",
            "wanna go again (Y/N)?y\n",
            "Enter a number: 0\n",
            "Entered number is Even\n",
            "Retrying...\n",
            "wanna go again (Y/N)?n\n"
          ]
        }
      ]
    },
    {
      "cell_type": "markdown",
      "metadata": {
        "id": "xapbe9e7N7BE"
      },
      "source": [
        "## Activity 4: Eligibility Checker"
      ]
    },
    {
      "cell_type": "markdown",
      "metadata": {
        "id": "I6kscwWwN7BE"
      },
      "source": [
        "**Objective**: Write a program to check if a user is eligible for a program based on age and income.\n",
        "\n",
        "**Instructions**:\n",
        "1. Input age and income from the user.\n",
        "2. Use `and` and `or` operators to check eligibility."
      ]
    },
    {
      "cell_type": "code",
      "metadata": {
        "id": "hTdUpFZdN7BE",
        "colab": {
          "base_uri": "https://localhost:8080/"
        },
        "outputId": "c95ce878-7bdb-451c-e6f7-b567f68b84c2"
      },
      "source": [
        "# write your code here\n",
        "import sys\n",
        "\n",
        "def check_eligibility():\n",
        "  age=int(input('Enter age: '))\n",
        "  income=float(input('Enter income in decimal: '))\n",
        "  if age and income:\n",
        "    if (age>=18 and income>=5000)or(age>=30 and income>=10000) :\n",
        "      print('Eligible for registered program')\n",
        "    elif age>=18 and income<5000:\n",
        "      print('Eligible for unregistered program')\n",
        "    else:\n",
        "      print('Eligible for childrens program')\n",
        "  else:\n",
        "    print('No input provided')\n",
        "\n",
        "check_eligibility()\n",
        "\n",
        "while True:\n",
        "  ans=input('wanna go again (Y/N)?')\n",
        "  if ans.lower() in (\"y\", \"n\"):\n",
        "    if ans.lower() != \"y\":\n",
        "      break  # Exit the loop if not retrying\n",
        "    else:\n",
        "      check_eligibility()\n",
        "      print(\"Retrying...\")\n",
        "  else:\n",
        "    print('Please provide an input in \\'Y\\' and \\'N\\'')"
      ],
      "execution_count": 44,
      "outputs": [
        {
          "name": "stdout",
          "output_type": "stream",
          "text": [
            "Enter age: 43\n",
            "Enter income in decimal: 890\n",
            "Eligible for unregistered program\n",
            "wanna go again (Y/N)?y\n",
            "Enter age: 23\n",
            "Enter income in decimal: 0\n",
            "No input :(\n",
            "Retrying...\n",
            "wanna go again (Y/N)?n\n"
          ]
        }
      ]
    },
    {
      "cell_type": "markdown",
      "metadata": {
        "id": "W-wnv3z5N7BE"
      },
      "source": [
        "## Activity 5: Leap Year Checker"
      ]
    },
    {
      "cell_type": "markdown",
      "metadata": {
        "id": "J600GIpoN7BF"
      },
      "source": [
        "**Objective**: Write a program to check if a year is a leap year.\n",
        "\n",
        "**Instructions**:\n",
        "1. Input a year from the user.\n",
        "2. Check leap year conditions."
      ]
    },
    {
      "cell_type": "code",
      "metadata": {
        "id": "s9067lv8N7BF",
        "colab": {
          "base_uri": "https://localhost:8080/"
        },
        "outputId": "0acab224-fe15-4d38-a5c4-6826c36b510e"
      },
      "source": [
        "# write your code here\n",
        "def check_leapYear():\n",
        "  yr=int(input('Enter year: '))\n",
        "  if yr:\n",
        "    if (yr%4==0 and yr % 100 != 0) or (yr % 400 == 0) :\n",
        "      print('Its a leap year!!')\n",
        "    else:\n",
        "      print('Oops not a leap year')\n",
        "  else:\n",
        "    print('No input :(')\n",
        "\n",
        "check_leapYear()\n",
        "\n",
        "while True:\n",
        "  ans=input('wanna go again (Y/N)?')\n",
        "  if ans.lower() in (\"y\", \"n\"):\n",
        "    if ans.lower() != \"y\":\n",
        "      break  # Exit the loop if not retrying\n",
        "    else:\n",
        "      check_leapYear()\n",
        "      print(\"Retrying...\")\n",
        "  else:\n",
        "    print('Please provide an input in \\'Y\\' and \\'N\\'')\n"
      ],
      "execution_count": 46,
      "outputs": [
        {
          "name": "stdout",
          "output_type": "stream",
          "text": [
            "Enter year: 2015\n",
            "Oops not a leap year\n",
            "wanna go again (Y/N)?y\n",
            "Enter year: 2015\n",
            "Oops not a leap year\n",
            "Retrying...\n",
            "wanna go again (Y/N)?y\n",
            "Enter year: 2026\n",
            "Oops not a leap year\n",
            "Retrying...\n",
            "wanna go again (Y/N)?2028\n",
            "Please provide an input in 'Y' and 'N'\n",
            "wanna go again (Y/N)?y\n",
            "Enter year: 2028\n",
            "Its a leap year!!\n",
            "Retrying...\n",
            "wanna go again (Y/N)?n\n"
          ]
        }
      ]
    },
    {
      "cell_type": "markdown",
      "metadata": {
        "id": "jazJGjamN7BF"
      },
      "source": [
        "## Activity 6: Rock-Paper-Scissors"
      ]
    },
    {
      "cell_type": "markdown",
      "metadata": {
        "id": "2oyOk3e-N7BF"
      },
      "source": [
        "**Objective**: Create a simple rock-paper-scissors game using conditional statements.\n",
        "\n",
        "**Instructions**:\n",
        "1. Take input from two players.\n",
        "2. Use conditions to decide the winner.\n",
        "\n",
        "Hint:\n",
        "Tie ==> player1 == player2\n",
        "\n",
        "Player1 wins on below conditions otherwise player2 wins\n",
        "\n",
        "(player1 == \"rock\" and player2 == \"scissors\") or \\\n",
        "(player1 == \"scissors\" and player2 == \"paper\") or \\\n",
        "(player1 == \"paper\" and player2 == \"rock\")\n",
        "    \n"
      ]
    },
    {
      "cell_type": "code",
      "metadata": {
        "id": "KIokyvXHN7BF",
        "colab": {
          "base_uri": "https://localhost:8080/"
        },
        "outputId": "bc659cab-f62d-4086-b025-4452447dda08"
      },
      "source": [
        "def rock_papaer_scissors():\n",
        "  p1=input('Enter rock/papaer/scissors: ')\n",
        "  p2=input('Enter rock/papaer/scissors: ')\n",
        "  if p1.lower() and p2.lower():\n",
        "    if (p1 == \"rock\" and p2 == \"scissors\")or(p1 == \"scissors\" and p2 == \"paper\")or(p1 == \"paper\" and p2 == \"rock\") :\n",
        "      print('player1 wins!')\n",
        "    else:\n",
        "      print('player2 wins!')\n",
        "  else:\n",
        "    print('No input :(')\n",
        "\n",
        "rock_papaer_scissors()\n",
        "\n",
        "while True:\n",
        "  ans=input('wanna go again (Y/N)?')\n",
        "  if ans.lower() in (\"y\", \"n\"):\n",
        "    if ans.lower() != \"y\":\n",
        "      break  # Exit the loop if not retrying\n",
        "    else:\n",
        "      rock_papaer_scissors()\n",
        "      print(\"Retrying...\")\n",
        "  else:\n",
        "    print('Please provide an input in \\'Y\\' and \\'N\\'')"
      ],
      "execution_count": 48,
      "outputs": [
        {
          "name": "stdout",
          "output_type": "stream",
          "text": [
            "Enter rock/papaer/scissors: rock\n",
            "Enter rock/papaer/scissors: scissors\n",
            "player1 wins!\n",
            "wanna go again (Y/N)?scissors\n",
            "Please provide an input in 'Y' and 'N'\n",
            "wanna go again (Y/N)?y\n",
            "Enter rock/papaer/scissors: scissors\n",
            "Enter rock/papaer/scissors: paper\n",
            "player1 wins!\n",
            "Retrying...\n",
            "wanna go again (Y/N)?scissors\n",
            "Please provide an input in 'Y' and 'N'\n",
            "wanna go again (Y/N)?y\n",
            "Enter rock/papaer/scissors: scissors\n",
            "Enter rock/papaer/scissors: rock\n",
            "player2 wins!\n",
            "Retrying...\n",
            "wanna go again (Y/N)?n\n"
          ]
        }
      ]
    }
  ],
  "metadata": {
    "kernelspec": {
      "display_name": "Python 3",
      "language": "python",
      "name": "python3"
    },
    "language_info": {
      "name": "python",
      "version": "3.8"
    },
    "colab": {
      "provenance": [],
      "include_colab_link": true
    }
  },
  "nbformat": 4,
  "nbformat_minor": 0
}