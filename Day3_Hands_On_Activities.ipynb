{
  "cells": [
    {
      "cell_type": "markdown",
      "metadata": {
        "id": "view-in-github",
        "colab_type": "text"
      },
      "source": [
        "<a href=\"https://colab.research.google.com/github/pamitra/foursteps_training/blob/main/Day3_Hands_On_Activities.ipynb\" target=\"_parent\"><img src=\"https://colab.research.google.com/assets/colab-badge.svg\" alt=\"Open In Colab\"/></a>"
      ]
    },
    {
      "cell_type": "markdown",
      "metadata": {
        "id": "-F4k-gxVN7A9"
      },
      "source": [
        "# Python Basics - Day 3: Hands-On Activities\n",
        "This notebook contains engaging hands-on activities to help you practice conditional statements, logical operators, and comparison operators."
      ]
    },
    {
      "cell_type": "markdown",
      "metadata": {
        "id": "UpGkHoAFN7A-"
      },
      "source": [
        "## Activity 1: Grading System"
      ]
    },
    {
      "cell_type": "markdown",
      "metadata": {
        "id": "57m72i4gN7A_"
      },
      "source": [
        "**Objective**: Write a program to assign grades based on a student's score.\n",
        "\n",
        "**Instructions**:\n",
        "1. Input the student's score.\n",
        "2. Assign grades:\n",
        "- A: 90 and above\n",
        "- B: 75 to 89\n",
        "- C: 50 to 74\n",
        "- F: Below 50"
      ]
    },
    {
      "cell_type": "code",
      "metadata": {
        "id": "BonNcNBsN7BA",
        "colab": {
          "base_uri": "https://localhost:8080/"
        },
        "outputId": "9571e4ad-cf2f-4284-8d86-ac5679b64524"
      },
      "source": [
        "# write your code here\n",
        "score=input('Enter score in 100: ')\n",
        "if score:\n",
        "  if int(score) >= 90:\n",
        "    print('Secured Grade A')\n",
        "  elif int(score) >= 75 and int(score)<90:\n",
        "    print('Secured Grade B')\n",
        "  elif int(score) >=50 and int(score)<75:\n",
        "    print('secured Grade C')\n",
        "  else:\n",
        "    print('Secured F Grade')\n",
        "else:\n",
        "  print('No input :(')\n"
      ],
      "execution_count": 12,
      "outputs": [
        {
          "output_type": "stream",
          "name": "stdout",
          "text": [
            "Enter score in 100: 3\n",
            "Secured F Grade\n"
          ]
        }
      ]
    },
    {
      "cell_type": "markdown",
      "metadata": {
        "id": "5rH088L5N7BB"
      },
      "source": [
        "## Activity 2: Number Classification"
      ]
    },
    {
      "cell_type": "markdown",
      "metadata": {
        "id": "zykY1PbXN7BB"
      },
      "source": [
        "**Objective**: Write a program to classify a number as positive, negative, or zero.\n",
        "\n",
        "**Instructions**:\n",
        "1. Input a number from the user.\n",
        "2. Use `if`, `elif`, and `else` to classify the number."
      ]
    },
    {
      "cell_type": "code",
      "metadata": {
        "id": "MDjQqHR1N7BC",
        "colab": {
          "base_uri": "https://localhost:8080/"
        },
        "outputId": "f094381e-3fc3-4b17-939e-5374decad6de"
      },
      "source": [
        "# write your code here\n",
        "import sys\n",
        "\n",
        "def zero_or_not():\n",
        "  num=input('Enter a number: ')\n",
        "  if num:\n",
        "    if int(num) >0 :\n",
        "      print('Entered number is Positive')\n",
        "    elif int(num) <0:\n",
        "      print('Entered number is Negative')\n",
        "    else:\n",
        "      print('Entered number is zero')\n",
        "  else:\n",
        "    print('No input :(')\n",
        "\n",
        "zero_or_not()\n",
        "while True:\n",
        "  ans=input('wanna go again (Y/N)?')\n",
        "  if ans.lower() in (\"y\", \"n\"):\n",
        "    if ans.lower() != \"y\":\n",
        "      break  # Exit the loop if not retrying\n",
        "    else:\n",
        "      zero_or_not()\n",
        "      print(\"Retrying...\")\n",
        "  else:\n",
        "    print('Please provide an input in \\'Y\\' and \\'N\\'')\n"
      ],
      "execution_count": 26,
      "outputs": [
        {
          "name": "stdout",
          "output_type": "stream",
          "text": [
            "Enter a number: 2\n",
            "Entered number is Positive\n",
            "wanna go again (Y/N)?y\n",
            "Enter a number: -7\n",
            "Entered number is Negative\n",
            "Retrying...\n",
            "wanna go again (Y/N)?\n",
            "Please provide an input in 'Y' and 'N'\n",
            "wanna go again (Y/N)?y\n",
            "Enter a number: 3\n",
            "Entered number is Positive\n",
            "Retrying...\n",
            "wanna go again (Y/N)?n\n"
          ]
        }
      ]
    },
    {
      "cell_type": "markdown",
      "metadata": {
        "id": "WVeNHDCtN7BC"
      },
      "source": [
        "## Activity 3: Check Even or Odd"
      ]
    },
    {
      "cell_type": "markdown",
      "metadata": {
        "id": "MIsA5okPN7BD"
      },
      "source": [
        "**Objective**: Determine if a number is even or odd using nested conditions.\n",
        "\n",
        "**Instructions**:\n",
        "1. Input a number from the user.\n",
        "2. Check if the number is non-negative, then check if it’s even or odd."
      ]
    },
    {
      "cell_type": "code",
      "metadata": {
        "id": "HP_C3GraN7BD"
      },
      "source": [
        "# write your code here"
      ],
      "execution_count": null,
      "outputs": []
    },
    {
      "cell_type": "markdown",
      "metadata": {
        "id": "xapbe9e7N7BE"
      },
      "source": [
        "## Activity 4: Eligibility Checker"
      ]
    },
    {
      "cell_type": "markdown",
      "metadata": {
        "id": "I6kscwWwN7BE"
      },
      "source": [
        "**Objective**: Write a program to check if a user is eligible for a program based on age and income.\n",
        "\n",
        "**Instructions**:\n",
        "1. Input age and income from the user.\n",
        "2. Use `and` and `or` operators to check eligibility."
      ]
    },
    {
      "cell_type": "code",
      "metadata": {
        "id": "hTdUpFZdN7BE"
      },
      "source": [
        "# write your code here"
      ],
      "execution_count": null,
      "outputs": []
    },
    {
      "cell_type": "markdown",
      "metadata": {
        "id": "W-wnv3z5N7BE"
      },
      "source": [
        "## Activity 5: Leap Year Checker"
      ]
    },
    {
      "cell_type": "markdown",
      "metadata": {
        "id": "J600GIpoN7BF"
      },
      "source": [
        "**Objective**: Write a program to check if a year is a leap year.\n",
        "\n",
        "**Instructions**:\n",
        "1. Input a year from the user.\n",
        "2. Check leap year conditions."
      ]
    },
    {
      "cell_type": "code",
      "metadata": {
        "id": "s9067lv8N7BF"
      },
      "source": [
        "# write your code here"
      ],
      "execution_count": null,
      "outputs": []
    },
    {
      "cell_type": "markdown",
      "metadata": {
        "id": "jazJGjamN7BF"
      },
      "source": [
        "## Activity 6: Rock-Paper-Scissors"
      ]
    },
    {
      "cell_type": "markdown",
      "metadata": {
        "id": "2oyOk3e-N7BF"
      },
      "source": [
        "**Objective**: Create a simple rock-paper-scissors game using conditional statements.\n",
        "\n",
        "**Instructions**:\n",
        "1. Take input from two players.\n",
        "2. Use conditions to decide the winner.\n",
        "\n",
        "Hint:\n",
        "Tie ==> player1 == player2\n",
        "\n",
        "Player1 wins on below conditions otherwise player2 wins\n",
        "\n",
        "(player1 == \"rock\" and player2 == \"scissors\") or \\\n",
        "(player1 == \"scissors\" and player2 == \"paper\") or \\\n",
        "(player1 == \"paper\" and player2 == \"rock\")\n",
        "    \n"
      ]
    },
    {
      "cell_type": "code",
      "metadata": {
        "id": "KIokyvXHN7BF"
      },
      "source": [],
      "execution_count": null,
      "outputs": []
    }
  ],
  "metadata": {
    "kernelspec": {
      "display_name": "Python 3",
      "language": "python",
      "name": "python3"
    },
    "language_info": {
      "name": "python",
      "version": "3.8"
    },
    "colab": {
      "provenance": [],
      "include_colab_link": true
    }
  },
  "nbformat": 4,
  "nbformat_minor": 0
}