{
  "cells": [
    {
      "cell_type": "markdown",
      "metadata": {
        "id": "view-in-github",
        "colab_type": "text"
      },
      "source": [
        "<a href=\"https://colab.research.google.com/github/pamitra/foursteps_training/blob/main/Python_Basics_Day2_Activity_Workbook.ipynb\" target=\"_parent\"><img src=\"https://colab.research.google.com/assets/colab-badge.svg\" alt=\"Open In Colab\"/></a>"
      ]
    },
    {
      "cell_type": "markdown",
      "metadata": {
        "id": "SuUZ3P12rL-_"
      },
      "source": [
        "# Python Basics - Day 2: Activity Workbook\n",
        "Welcome to Day 2 of Python Basics! This notebook contains hands-on activities to reinforce your learning. Follow the instructions in each section and complete the tasks."
      ]
    },
    {
      "cell_type": "markdown",
      "metadata": {
        "id": "tx4wO0AUrL_F"
      },
      "source": [
        "## Activity 1: Simple Arithmetic Operations\n",
        "1. Write a Python program to perform basic arithmetic operations (Addition, Subtraction, Multiplication, Division).\n",
        "2. Input two numbers from the user and display the results for each operation.\n",
        "\n",
        "**Example Code:**\n",
        "```python\n",
        "num1 = int(input(\"Enter first number: \"))\n",
        "num2 = int(input(\"Enter second number: \"))\n",
        "print(\"Addition:\", num1 + num2)\n",
        "\n",
        "```"
      ]
    },
    {
      "cell_type": "code",
      "execution_count": 3,
      "metadata": {
        "id": "zyFaPym7rL_G",
        "outputId": "137fbb68-c447-48c0-9e31-b4c5a87651c6",
        "colab": {
          "base_uri": "https://localhost:8080/"
        }
      },
      "outputs": [
        {
          "output_type": "stream",
          "name": "stdout",
          "text": [
            "Please enter first number:20\n",
            "Please enter second number:4\n",
            "Addition:  24\n",
            "Subtraction:  16\n",
            "Multiplication:  80\n",
            "Devision:  5.0\n"
          ]
        }
      ],
      "source": [
        "# Write your code here\n",
        "num1= int(input('Please enter first number:'))\n",
        "num2= int(input('Please enter second number:'))\n",
        "\n",
        "print('Addition: ',num1 + num2)\n",
        "print('Subtraction: ',num1 - num2)\n",
        "print('Multiplication: ',num1*num2)\n",
        "print('Devision: ', num1/num2)"
      ]
    },
    {
      "cell_type": "markdown",
      "metadata": {
        "id": "UGcCSdHMrL_J"
      },
      "source": [
        "## Activity 2: String Length\n",
        "1. Write a Python program to input a string from the user.\n",
        "2. Display the length of the string using the `len()` function.\n",
        "\n"
      ]
    },
    {
      "cell_type": "code",
      "execution_count": 6,
      "metadata": {
        "id": "5m-Lj3LzrL_J",
        "outputId": "30bdb7e4-ff66-4e25-becb-ce9a95edba1f",
        "colab": {
          "base_uri": "https://localhost:8080/"
        }
      },
      "outputs": [
        {
          "output_type": "stream",
          "name": "stdout",
          "text": [
            "Please enter a number:nomansland\n",
            "length of the input string:  10\n"
          ]
        }
      ],
      "source": [
        "# Write your code here\n",
        "num1= input('Please enter a number:')\n",
        "print('length of the input string: ',len(num1))"
      ]
    },
    {
      "cell_type": "markdown",
      "metadata": {
        "id": "I-aXSDxGrL_K"
      },
      "source": [
        "## Activity 3: Convert String Case\n",
        "1. Input a string from the user.\n",
        "2. Convert it to uppercase and lowercase, then display the results.\n",
        "\n"
      ]
    },
    {
      "cell_type": "code",
      "execution_count": 10,
      "metadata": {
        "id": "qZFIHWWprL_L",
        "colab": {
          "base_uri": "https://localhost:8080/"
        },
        "outputId": "f32e4a10-2e0a-47c6-cab6-8622c98261bc"
      },
      "outputs": [
        {
          "output_type": "stream",
          "name": "stdout",
          "text": [
            "Please enter a word:sdsg\n",
            "word in uppercase:  SDSG\n",
            "word in lowercase:  sdsg\n"
          ]
        }
      ],
      "source": [
        "# Write your code here\n",
        "word= input('Please enter a word:')\n",
        "print('word in uppercase: ',word.upper())\n",
        "print('word in lowercase: ', word.lower())"
      ]
    },
    {
      "cell_type": "markdown",
      "metadata": {
        "id": "l0-r1DlIrL_M"
      },
      "source": [
        "## Activity 4: String Concatenation\n",
        "1. Input two strings from the user.\n",
        "2. Concatenate them and display the result.\n",
        "\n"
      ]
    },
    {
      "cell_type": "code",
      "execution_count": 9,
      "metadata": {
        "id": "kvj-8RZsrL_M",
        "outputId": "951b64e6-90ef-465f-8796-0a42bd55fe31",
        "colab": {
          "base_uri": "https://localhost:8080/"
        }
      },
      "outputs": [
        {
          "output_type": "stream",
          "name": "stdout",
          "text": [
            "Please enter 1st word:hellow\n",
            "Please enter 2nd word:wolrd\n",
            "hellowwolrd\n"
          ]
        }
      ],
      "source": [
        "# Write your code here\n",
        "word1= input('Please enter 1st word:')\n",
        "word2= input('Please enter 2nd word:')\n",
        "print(word1+word2)"
      ]
    },
    {
      "cell_type": "markdown",
      "metadata": {
        "id": "92qv5FkVrL_N"
      },
      "source": [
        "## Activity 5: Reverse a String\n",
        "1. Input a string from the user.\n",
        "2. Reverse the string using slicing and display it.\n",
        "\n",
        "Hint: use negative indexing[::-1]"
      ]
    },
    {
      "cell_type": "code",
      "execution_count": 12,
      "metadata": {
        "id": "232ZlfpUrL_O",
        "outputId": "65429eb3-5104-4011-b3b1-09e9048a081a",
        "colab": {
          "base_uri": "https://localhost:8080/"
        }
      },
      "outputs": [
        {
          "output_type": "stream",
          "name": "stdout",
          "text": [
            "Please enter a word:something\n",
            "gnihtemos\n"
          ]
        }
      ],
      "source": [
        "# Write your code here\n",
        "word= input('Please enter a word:')\n",
        "print(word[::-1])"
      ]
    },
    {
      "cell_type": "markdown",
      "metadata": {
        "id": "1URprYp-rL_O"
      },
      "source": [
        "## Activity 6: Replace Substring\n",
        "1. Input a string and the substring to replace.\n",
        "2. Input the new substring to replace it with.\n",
        "3. Print the updated string.\n",
        "\n",
        "Hint: use .replace()\n",
        "\n",
        "\n",
        "\n",
        "\n",
        "\n"
      ]
    },
    {
      "cell_type": "code",
      "execution_count": 13,
      "metadata": {
        "id": "ZDUFLzfvrL_P",
        "outputId": "619d19fb-acf7-4e97-bf26-bc44eb49c932",
        "colab": {
          "base_uri": "https://localhost:8080/"
        }
      },
      "outputs": [
        {
          "output_type": "stream",
          "name": "stdout",
          "text": [
            "Please enter a sentence:mouse ran up the clock\n",
            "the input string:  mouse ran up the clock\n",
            "Enter the word to replacemouse\n",
            "Enter the new wordmice\n",
            "updated string:  mice ran up the clock\n"
          ]
        }
      ],
      "source": [
        "# Write your code here\n",
        "word= input('Please enter a sentence:')\n",
        "print('the input string: ',word)\n",
        "old=input('Enter the word to replace')\n",
        "new=input('Enter the new word')\n",
        "print('updated string: ',word.replace(old, new))"
      ]
    },
    {
      "cell_type": "markdown",
      "metadata": {
        "id": "ipLc5Fhzt_lZ"
      },
      "source": [
        "## Activity 7: BMI Calculator\n",
        "1. Input the weight (in kilograms) and height (in meters) from the user.\n",
        "2. Use the formula: BMI = weight / (height ** 2).\n",
        "3. Print the calculated BMI.\n",
        "\n"
      ]
    },
    {
      "cell_type": "code",
      "execution_count": 15,
      "metadata": {
        "id": "Z-PUl_2vuCrp",
        "outputId": "53786c6a-cc69-4afc-9e80-f0d5d5447beb",
        "colab": {
          "base_uri": "https://localhost:8080/"
        }
      },
      "outputs": [
        {
          "output_type": "stream",
          "name": "stdout",
          "text": [
            "Please enter weight in kg:61.0\n",
            "Please enter height in mtr:2.5\n",
            "your bmi is:  9.76\n"
          ]
        }
      ],
      "source": [
        "# Write your code here\n",
        "wght= float(input('Please enter weight in kg:'))\n",
        "hgt= float(input('Please enter height in mtr:'))\n",
        "bmi=wght/(hgt**2)\n",
        "print('your bmi is: ', bmi)"
      ]
    },
    {
      "cell_type": "markdown",
      "metadata": {
        "id": "s0xODsjcwJHa"
      },
      "source": [
        "## Activity 8: Bill Splitter\n",
        "1. Input the total bill amount, number of people, and tip percentage.\n",
        "2. Calculate the total bill including tip.\n",
        "3. Divide the total bill by the number of people and print the amount each person owes.\n",
        "\n",
        "\n",
        "\n",
        "\n",
        "\n"
      ]
    },
    {
      "cell_type": "code",
      "execution_count": 17,
      "metadata": {
        "id": "VLBOZQ7_wjCh",
        "outputId": "3c0cd6a1-00e3-4ebc-b5fb-035c01a659da",
        "colab": {
          "base_uri": "https://localhost:8080/"
        }
      },
      "outputs": [
        {
          "output_type": "stream",
          "name": "stdout",
          "text": [
            "Please enter total bill:800\n",
            "Please enter tip in %: 10\n",
            "Enter the number of heads: 8\n",
            "amount to be paid by 8 people is 110.0\n"
          ]
        }
      ],
      "source": [
        "# Write your code here\n",
        "bill= float(input('Please enter total bill:'))\n",
        "tip= float(input('Please enter tip in %: '))\n",
        "n=int(input('Enter the number of heads: '))\n",
        "tip_amt=(tip/100)*bill\n",
        "print('amount to be paid by {} people is {}'.format(n, ((bill+tip_amt)/n)))"
      ]
    }
  ],
  "metadata": {
    "kernelspec": {
      "display_name": "Python 3",
      "language": "python",
      "name": "python3"
    },
    "language_info": {
      "codemirror_mode": {
        "name": "ipython",
        "version": 3
      },
      "file_extension": ".py",
      "mimetype": "text/x-python",
      "name": "python",
      "nbconvert_exporter": "python",
      "pygments_lexer": "ipython3",
      "version": "3.8.10"
    },
    "colab": {
      "provenance": [],
      "toc_visible": true,
      "include_colab_link": true
    }
  },
  "nbformat": 4,
  "nbformat_minor": 0
}