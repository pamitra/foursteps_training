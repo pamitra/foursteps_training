{
  "nbformat": 4,
  "nbformat_minor": 0,
  "metadata": {
    "colab": {
      "name": "Python_Basics.ipynb",
      "provenance": [],
      "toc_visible": true,
      "include_colab_link": true
    },
    "kernelspec": {
      "name": "python3",
      "display_name": "Python 3"
    }
  },
  "cells": [
    {
      "cell_type": "markdown",
      "metadata": {
        "id": "view-in-github",
        "colab_type": "text"
      },
      "source": [
        "<a href=\"https://colab.research.google.com/github/pamitra/foursteps_training/blob/main/Python_Basics.ipynb\" target=\"_parent\"><img src=\"https://colab.research.google.com/assets/colab-badge.svg\" alt=\"Open In Colab\"/></a>"
      ]
    },
    {
      "cell_type": "markdown",
      "metadata": {
        "id": "mBgNudPIPwvk"
      },
      "source": [
        "# **Hello World in Python!**"
      ]
    },
    {
      "cell_type": "code",
      "metadata": {
        "id": "WBzyGTIcPodV",
        "colab": {
          "base_uri": "https://localhost:8080/"
        },
        "outputId": "db1216cd-d4b8-46a1-d74c-451748128c6c"
      },
      "source": [
        "print(\"Hello World how are you?\")\n",
        "# This a is a comment"
      ],
      "execution_count": 1,
      "outputs": [
        {
          "output_type": "stream",
          "name": "stdout",
          "text": [
            "Hello World how are you?\n"
          ]
        }
      ]
    },
    {
      "cell_type": "markdown",
      "metadata": {
        "id": "ElXqPGUsQeW3"
      },
      "source": [
        "# **Datatype**"
      ]
    },
    {
      "cell_type": "code",
      "metadata": {
        "id": "KHr3dSAlQaXk",
        "colab": {
          "base_uri": "https://localhost:8080/"
        },
        "outputId": "655037e1-ed24-41cb-ae1b-1bda5b86a7b7"
      },
      "source": [
        "a = 12\n",
        "print(a)\n",
        "print(type(a))"
      ],
      "execution_count": 2,
      "outputs": [
        {
          "output_type": "stream",
          "name": "stdout",
          "text": [
            "12\n",
            "<class 'int'>\n"
          ]
        }
      ]
    },
    {
      "cell_type": "code",
      "metadata": {
        "id": "3E-c8ymwQyuR",
        "colab": {
          "base_uri": "https://localhost:8080/"
        },
        "outputId": "3ea1752d-b3d0-4ae6-ee81-a995494c97f5"
      },
      "source": [
        "b = 1.7\n",
        "print(b)\n",
        "print(type(b))"
      ],
      "execution_count": 3,
      "outputs": [
        {
          "output_type": "stream",
          "name": "stdout",
          "text": [
            "1.7\n",
            "<class 'float'>\n"
          ]
        }
      ]
    },
    {
      "cell_type": "code",
      "metadata": {
        "id": "lLLgBaYNQ3Bp",
        "colab": {
          "base_uri": "https://localhost:8080/"
        },
        "outputId": "f1c9f1d4-50ef-40f8-a1c1-ed5720445e43"
      },
      "source": [
        "c = \"Python\"\n",
        "print(c)\n",
        "print(type(c))"
      ],
      "execution_count": 4,
      "outputs": [
        {
          "output_type": "stream",
          "name": "stdout",
          "text": [
            "Python\n",
            "<class 'str'>\n"
          ]
        }
      ]
    },
    {
      "cell_type": "code",
      "metadata": {
        "id": "c1HVwJj3Q6_c",
        "colab": {
          "base_uri": "https://localhost:8080/"
        },
        "outputId": "20d6ec7f-fedc-4fa3-b792-add25028c880"
      },
      "source": [
        "d = True\n",
        "print(d)\n",
        "print(type(d))"
      ],
      "execution_count": 5,
      "outputs": [
        {
          "output_type": "stream",
          "name": "stdout",
          "text": [
            "True\n",
            "<class 'bool'>\n"
          ]
        }
      ]
    },
    {
      "cell_type": "code",
      "metadata": {
        "id": "pfASQU9UQ-UN",
        "colab": {
          "base_uri": "https://localhost:8080/"
        },
        "outputId": "42c6a6c7-915f-46b6-c371-5ac6d8659a82"
      },
      "source": [
        "a, b, c = 1, 2, 3\n",
        "a, b, c = 1, 3.5, \"hello\"\n",
        "print(type(a))\n",
        "print(type(b))\n",
        "print(type(c))"
      ],
      "execution_count": 6,
      "outputs": [
        {
          "output_type": "stream",
          "name": "stdout",
          "text": [
            "<class 'int'>\n",
            "<class 'float'>\n",
            "<class 'str'>\n"
          ]
        }
      ]
    },
    {
      "cell_type": "markdown",
      "metadata": {
        "id": "r_7fd7J2Rr9f"
      },
      "source": [
        "# **Math Operation**"
      ]
    },
    {
      "cell_type": "code",
      "metadata": {
        "id": "mpIoTifoRxVT",
        "outputId": "993dd302-8271-472b-9541-c666296809ea",
        "colab": {
          "base_uri": "https://localhost:8080/"
        }
      },
      "source": [
        "a = 77\n",
        "b = a * 0.22\n",
        "b = b + 2000\n",
        "print (b)"
      ],
      "execution_count": 7,
      "outputs": [
        {
          "output_type": "stream",
          "name": "stdout",
          "text": [
            "2016.94\n"
          ]
        }
      ]
    },
    {
      "cell_type": "code",
      "source": [
        "c = int(b)\n",
        "print (c)"
      ],
      "metadata": {
        "colab": {
          "base_uri": "https://localhost:8080/"
        },
        "id": "HkEa20qivG4D",
        "outputId": "97c1a33d-f229-467b-909c-20eaa149fa27"
      },
      "execution_count": 9,
      "outputs": [
        {
          "output_type": "stream",
          "name": "stdout",
          "text": [
            "2016\n"
          ]
        }
      ]
    },
    {
      "cell_type": "code",
      "source": [
        "c = int(round(b,0))\n",
        "print (c)"
      ],
      "metadata": {
        "colab": {
          "base_uri": "https://localhost:8080/"
        },
        "id": "a6ndZM1Pvmuw",
        "outputId": "6d1e7b21-9993-4ad2-a552-674f22c23d9f"
      },
      "execution_count": null,
      "outputs": [
        {
          "output_type": "execute_result",
          "data": {
            "text/plain": [
              "17"
            ]
          },
          "metadata": {},
          "execution_count": 8
        }
      ]
    },
    {
      "cell_type": "code",
      "source": [
        "a = 77\n",
        "b = a * 0.22\n",
        "print (b)"
      ],
      "metadata": {
        "id": "Tr61VpKgvFQq"
      },
      "execution_count": null,
      "outputs": []
    },
    {
      "cell_type": "markdown",
      "source": [
        "# Boolean"
      ],
      "metadata": {
        "id": "6Ixx1km7v8fp"
      }
    },
    {
      "cell_type": "code",
      "metadata": {
        "id": "scwoueSfR4fv",
        "colab": {
          "base_uri": "https://localhost:8080/"
        },
        "outputId": "45b804a1-acf6-4567-877f-9b7acad5ed08"
      },
      "source": [
        "x = True\n",
        "y = False\n",
        "print(x and y)\n",
        "print(x or y)\n",
        "print(not x)\n",
        "print(x & y)"
      ],
      "execution_count": 8,
      "outputs": [
        {
          "output_type": "stream",
          "name": "stdout",
          "text": [
            "False\n",
            "True\n",
            "False\n",
            "False\n"
          ]
        }
      ]
    },
    {
      "cell_type": "markdown",
      "source": [
        "# Printing"
      ],
      "metadata": {
        "id": "gKOx2o6i0pgM"
      }
    },
    {
      "cell_type": "code",
      "source": [
        "message = \"Lets Learn AI\""
      ],
      "metadata": {
        "id": "5QjYDF4V0ukg"
      },
      "execution_count": null,
      "outputs": []
    },
    {
      "cell_type": "code",
      "source": [
        "print (message)"
      ],
      "metadata": {
        "id": "kKtTXl4c01mn"
      },
      "execution_count": null,
      "outputs": []
    },
    {
      "cell_type": "code",
      "source": [
        "print (\"The Message is - \",message )"
      ],
      "metadata": {
        "id": "Yeukscyy05bP"
      },
      "execution_count": null,
      "outputs": []
    },
    {
      "cell_type": "code",
      "source": [
        "print (message,\".\",sep=\"Come on\", end=\"Team\")"
      ],
      "metadata": {
        "id": "GDSYwZi80-Q_"
      },
      "execution_count": null,
      "outputs": []
    },
    {
      "cell_type": "code",
      "source": [
        "print (\"a =\",\"5\",sep=\"00\",end=\".000\")"
      ],
      "metadata": {
        "id": "i34A5Xvr1cJQ"
      },
      "execution_count": null,
      "outputs": []
    },
    {
      "cell_type": "code",
      "source": [
        "first = \"Artificial\"\n",
        "last = \"Intelligence\"\n",
        "\n",
        "print(\"You Know? {} {}, is the new trend!\".format(first,last))"
      ],
      "metadata": {
        "id": "Dt0GoNRd6dTE"
      },
      "execution_count": null,
      "outputs": []
    },
    {
      "cell_type": "code",
      "source": [
        "print(\"%s%s\" % (first, last))"
      ],
      "metadata": {
        "id": "OnxsAeap9t0b"
      },
      "execution_count": null,
      "outputs": []
    },
    {
      "cell_type": "code",
      "source": [
        "float = 2.154327\n",
        "print( \"{:.2f}\".format(float))"
      ],
      "metadata": {
        "id": "hJKlHhVu6mOV"
      },
      "execution_count": null,
      "outputs": []
    },
    {
      "cell_type": "code",
      "source": [
        "print (\"%.2f\" % (float))"
      ],
      "metadata": {
        "id": "SZNFjYGc9pfd"
      },
      "execution_count": null,
      "outputs": []
    }
  ]
}