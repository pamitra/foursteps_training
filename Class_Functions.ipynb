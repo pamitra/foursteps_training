{
  "nbformat": 4,
  "nbformat_minor": 0,
  "metadata": {
    "colab": {
      "name": "Class_Functions.ipynb",
      "provenance": [],
      "toc_visible": true,
      "include_colab_link": true
    },
    "kernelspec": {
      "name": "python3",
      "display_name": "Python 3"
    }
  },
  "cells": [
    {
      "cell_type": "markdown",
      "metadata": {
        "id": "view-in-github",
        "colab_type": "text"
      },
      "source": [
        "<a href=\"https://colab.research.google.com/github/pamitra/foursteps_training/blob/main/Class_Functions.ipynb\" target=\"_parent\"><img src=\"https://colab.research.google.com/assets/colab-badge.svg\" alt=\"Open In Colab\"/></a>"
      ]
    },
    {
      "cell_type": "markdown",
      "metadata": {
        "id": "pQtyOHQ3a2p5"
      },
      "source": [
        "# **Function**"
      ]
    },
    {
      "cell_type": "code",
      "metadata": {
        "id": "PwuAmvyAa5RN"
      },
      "source": [
        "def squared(x):\n",
        "    y = x*x\n",
        "    print (y)\n",
        "    return y"
      ],
      "execution_count": 1,
      "outputs": []
    },
    {
      "cell_type": "code",
      "metadata": {
        "id": "Fq7If5fHa6qg",
        "colab": {
          "base_uri": "https://localhost:8080/"
        },
        "outputId": "45eace23-18eb-4f28-9d87-7fb8f312d778"
      },
      "source": [
        "res = squared(4)\n",
        "print (\"result is\", res )"
      ],
      "execution_count": 2,
      "outputs": [
        {
          "output_type": "stream",
          "name": "stdout",
          "text": [
            "16\n",
            "result is 16\n"
          ]
        }
      ]
    },
    {
      "cell_type": "markdown",
      "source": [
        "# Class"
      ],
      "metadata": {
        "id": "Ipk0JYPsFsDM"
      }
    },
    {
      "cell_type": "code",
      "source": [
        "class AI:\n",
        "    pass"
      ],
      "metadata": {
        "id": "1XLKPdB4FtZ2"
      },
      "execution_count": 3,
      "outputs": []
    },
    {
      "cell_type": "code",
      "source": [
        "class AI:\n",
        "\n",
        "    # A simple class\n",
        "    # attribute\n",
        "    attr1 = \"ML\"\n",
        "    attr2 = \"DL\"\n",
        "\n",
        "    # A sample method\n",
        "    def fun(self):\n",
        "        print(\"We need\", self.attr1)\n",
        "        print(\"We need\", self.attr2)\n",
        "\n",
        "# Driver code\n",
        "# Object instantiation\n",
        "me = AI()\n",
        "\n",
        "# Accessing class attributes\n",
        "# and method through objects\n",
        "print(me.attr1)\n",
        "me.fun()"
      ],
      "metadata": {
        "id": "iWkt-7TuF1sM",
        "colab": {
          "base_uri": "https://localhost:8080/"
        },
        "outputId": "ec64de61-4f76-445a-ab33-c0c26023c0d1"
      },
      "execution_count": 4,
      "outputs": [
        {
          "output_type": "stream",
          "name": "stdout",
          "text": [
            "ML\n",
            "We need ML\n",
            "We need DL\n"
          ]
        }
      ]
    },
    {
      "cell_type": "code",
      "source": [
        "# A Sample class with init method\n",
        "class Person:\n",
        "\n",
        "    # init method or constructor\n",
        "    def __init__(self, name):\n",
        "        self.name = name\n",
        "        self.profession = \"Data\"\n",
        "\n",
        "    # Sample Method\n",
        "    def say_hi(self):\n",
        "        print('Hello, my name is', self.name)\n",
        "        print('He plays', self.profession, \"for living\")\n",
        "\n",
        "p = Person('Deepan')\n",
        "p.say_hi()"
      ],
      "metadata": {
        "id": "5OgdYzAWGRRj",
        "colab": {
          "base_uri": "https://localhost:8080/"
        },
        "outputId": "1c4fb6dc-b9bc-4fa3-d705-7b812431f190"
      },
      "execution_count": 5,
      "outputs": [
        {
          "output_type": "stream",
          "name": "stdout",
          "text": [
            "Hello, my name is Deepan\n",
            "He plays Data for living\n"
          ]
        }
      ]
    },
    {
      "cell_type": "markdown",
      "metadata": {
        "id": "wAz497akagUz"
      },
      "source": [
        "# **Exception Handling**"
      ]
    },
    {
      "cell_type": "code",
      "metadata": {
        "id": "LC_jYmA8ap6f",
        "colab": {
          "base_uri": "https://localhost:8080/"
        },
        "outputId": "830cf5b3-c583-47e2-f855-9bf338ffb8c6"
      },
      "source": [
        "y =10\n",
        "try:\n",
        "    print (z)\n",
        "    x = y/0\n",
        "except NameError :\n",
        "    print (\"value error\")\n",
        "except Exception as e:\n",
        "    print(\"Something is wrong!\")\n",
        "    print (e)"
      ],
      "execution_count": 6,
      "outputs": [
        {
          "output_type": "stream",
          "name": "stdout",
          "text": [
            "value error\n"
          ]
        }
      ]
    },
    {
      "cell_type": "code",
      "metadata": {
        "id": "i0eokz3masIT",
        "colab": {
          "base_uri": "https://localhost:8080/"
        },
        "outputId": "67fc355a-d52b-48d8-930a-aa05e526dc05"
      },
      "source": [
        "try:\n",
        "    print(s)\n",
        "except:\n",
        "    print(\"Something is wrong!\")\n",
        "finally:\n",
        "    print(\"Finally always execute after try-except.\")"
      ],
      "execution_count": 7,
      "outputs": [
        {
          "output_type": "stream",
          "name": "stdout",
          "text": [
            "Something is wrong!\n",
            "Finally always execute after try-except.\n"
          ]
        }
      ]
    }
  ]
}